{
 "cells": [
  {
   "cell_type": "code",
   "execution_count": 2,
   "metadata": {},
   "outputs": [],
   "source": [
    "import numpy as np"
   ]
  },
  {
   "cell_type": "code",
   "execution_count": 3,
   "metadata": {},
   "outputs": [],
   "source": [
    "data = np.array([[1, 1, 3, 3],[3, 1, 4, 2]])\n",
    "labels = np.array([[-1, -1, 1, 1]])\n",
    "th = np.array([[0, 1]]).T\n",
    "th0 = -3"
   ]
  },
  {
   "cell_type": "code",
   "execution_count": 4,
   "metadata": {},
   "outputs": [],
   "source": [
    "def signed(x, th, th0):\n",
    "    return (np.dot(th.T, x) + th0) / np.linalg.norm(th)\n",
    "\n",
    "def margin(x,y,th,th0):\n",
    "    return y*signed(x,th,th0)\n"
   ]
  },
  {
   "cell_type": "code",
   "execution_count": 5,
   "metadata": {},
   "outputs": [],
   "source": [
    "data = np.array([[1, 2, 1, 2, 10, 10.3, 10.5, 10.7],\n",
    "                 [1, 1, 2, 2,  2,  2,  2, 2]])\n",
    "labels = np.array([[-1, -1, 1, 1, 1, 1, 1, 1]])\n",
    "blue_th = np.array([[0, 1]]).T\n",
    "blue_th0 = -1.5\n",
    "red_th = np.array([[1, 0]]).T\n",
    "red_th0 = -2.5"
   ]
  },
  {
   "cell_type": "code",
   "execution_count": 6,
   "metadata": {},
   "outputs": [
    {
     "name": "stdout",
     "output_type": "stream",
     "text": [
      "31.5\n",
      "8.2\n",
      "-1.5\n",
      "4.0\n",
      "0.5\n",
      "0.5\n"
     ]
    }
   ],
   "source": [
    "red_margin = margin(data, labels, red_th, red_th0)\n",
    "blue_margin = margin(data, labels, blue_th, blue_th0)\n",
    "print(np.sum(red_margin[0]))\n",
    "print(np.max(red_margin[0]))\n",
    "print(np.min(red_margin[0]))\n",
    "\n",
    "print(np.sum(blue_margin[0]))\n",
    "print(np.max(blue_margin[0]))\n",
    "print(np.min(blue_margin[0]))"
   ]
  },
  {
   "cell_type": "code",
   "execution_count": 7,
   "metadata": {},
   "outputs": [],
   "source": [
    "data = np.array([[1.1, 1, 4],[3.1, 1, 2]])\n",
    "labels = np.array([[1, -1, -1]])\n",
    "th = np.array([[1, 1]]).T\n",
    "th0 = -4"
   ]
  },
  {
   "cell_type": "code",
   "execution_count": 8,
   "metadata": {},
   "outputs": [],
   "source": [
    "gamma_ref = np.sqrt(2)/2\n",
    "\n",
    "def hinge_loss(data,labels,th,th0,gamma_ref):\n",
    "    hinge_loss = []\n",
    "    for i in margin(data,labels,th,th0)[0]:\n",
    "        print(i)\n",
    "        if i < gamma_ref:\n",
    "            hinge_loss.append(1 - (i))\n",
    "        else:\n",
    "            hinge_loss.append(0)\n",
    "    print(hinge_loss)"
   ]
  },
  {
   "cell_type": "code",
   "execution_count": 9,
   "metadata": {},
   "outputs": [
    {
     "name": "stdout",
     "output_type": "stream",
     "text": [
      "0.14142135623730961\n",
      "1.414213562373095\n",
      "-1.414213562373095\n",
      "[0.8585786437626903, 0, 2.414213562373095]\n"
     ]
    }
   ],
   "source": [
    "hinge_loss(data, labels, th, th0, gamma_ref)\n"
   ]
  },
  {
   "cell_type": "code",
   "execution_count": 10,
   "metadata": {},
   "outputs": [
    {
     "name": "stdout",
     "output_type": "stream",
     "text": [
      "(-2, -2)\n",
      "(2, 2)\n",
      "(12, 4)\n",
      "(-12, -4)\n"
     ]
    }
   ],
   "source": [
    "th_green = 1\n",
    "th0_green = 1\n",
    "\n",
    "th_blue = 1\n",
    "th0_blue = 0\n",
    "\n",
    "def gradient_of_mean_squared_error(i, th, th0):\n",
    "    return (-2*(i[1]-th*i[0]-th0)*i[0], -2*(i[1]-th*i[0]-th0))\n",
    "\n",
    "data_points = [(1,3),(1,1),(3,2),(3,6)]\n",
    "for i in data_points:\n",
    "    print(gradient_of_mean_squared_error(i, th_green, th0_green))\n",
    "\n"
   ]
  },
  {
   "cell_type": "code",
   "execution_count": 20,
   "metadata": {},
   "outputs": [
    {
     "name": "stdout",
     "output_type": "stream",
     "text": [
      "[0.77245284]\n"
     ]
    }
   ],
   "source": [
    "def SM(z):\n",
    "    return np.exp(z) / np.sum(np.exp(z))\n",
    "    \n",
    "w = np.array([[1, -1, -2], [-1, 2, 1]])\n",
    "x = np.array([[1], [1]])\n",
    "y = np.array([[0, 1, 0]]).T\n",
    "z = np.dot(w.T, x)\n",
    "a = SM(z)\n",
    "g = np.dot(x, (a - y).T)\n",
    "\n",
    "w_1 = w - 0.5 * g\n",
    "z = np.dot(w_1.T, x)\n",
    "a = SM(z)\n",
    "print(a[1]/ np.sum(a))"
   ]
  }
 ],
 "metadata": {
  "kernelspec": {
   "display_name": "Python 3",
   "language": "python",
   "name": "python3"
  },
  "language_info": {
   "codemirror_mode": {
    "name": "ipython",
    "version": 3
   },
   "file_extension": ".py",
   "mimetype": "text/x-python",
   "name": "python",
   "nbconvert_exporter": "python",
   "pygments_lexer": "ipython3",
   "version": "3.11.5"
  },
  "orig_nbformat": 4
 },
 "nbformat": 4,
 "nbformat_minor": 2
}
